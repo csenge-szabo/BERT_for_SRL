{
 "cells": [
  {
   "cell_type": "markdown",
   "metadata": {},
   "source": [
    "# Semantic Role Labelling with Fine-tuned BERT models\n",
    "\n",
    "This notebook is about the process of fine-tuning pre-trained BERT models for the task of Semantic Role Labelling (SRL). First, make sure the libraries listed in the 'requirements' are available. If you run this notebook on Google Colab, you might need to install additional libraries and restart the kernel afterwards, for details see the requirements.txt. The functions are organised in util scripts, which we import in this notebook.\n",
    "\n",
    "Make sure your version of Transformers is at least 4.11.0 since the functionality was introduced in that version.\n"
   ]
  },
  {
   "cell_type": "code",
   "execution_count": 3,
   "metadata": {
    "ExecuteTime": {
     "end_time": "2024-03-05T12:53:41.926885504Z",
     "start_time": "2024-03-05T12:53:36.068862111Z"
    },
    "colab": {
     "base_uri": "https://localhost:8080/"
    },
    "id": "3Zhoay7T3APt",
    "outputId": "c7be6487-6a83-40f9-c258-dffadf682e2c",
    "tags": []
   },
   "outputs": [
    {
     "name": "stderr",
     "output_type": "stream",
     "text": [
      "/Users/szabo.csenge.99/Library/Python/3.9/lib/python/site-packages/urllib3/__init__.py:35: NotOpenSSLWarning: urllib3 v2 only supports OpenSSL 1.1.1+, currently the 'ssl' module is compiled with 'LibreSSL 2.8.3'. See: https://github.com/urllib3/urllib3/issues/3020\n",
      "  warnings.warn(\n",
      "/Users/szabo.csenge.99/Library/Python/3.9/lib/python/site-packages/tqdm/auto.py:21: TqdmWarning: IProgress not found. Please update jupyter and ipywidgets. See https://ipywidgets.readthedocs.io/en/stable/user_install.html\n",
      "  from .autonotebook import tqdm as notebook_tqdm\n",
      "/Users/szabo.csenge.99/Desktop/LinguisticsMA/Period4/Advanced NLP/Advanced-NLP-13/Assignment_3/utils_model_training.py:232: SyntaxWarning: assertion is always true, perhaps remove parentheses?\n",
      "  assert(len(actual_labels), len(actual_predictions))\n"
     ]
    },
    {
     "name": "stdout",
     "output_type": "stream",
     "text": [
      "4.38.2\n"
     ]
    }
   ],
   "source": [
    "from utils_preprocessing import *\n",
    "from utils_data_processing import *\n",
    "from utils_evaluation import *\n",
    "from utils_model_training import *\n",
    "\n",
    "print(transformers.__version__)"
   ]
  },
  {
   "cell_type": "markdown",
   "metadata": {},
   "source": [
    "Ensure that the trained models are placed into the 'models' subdirectory. If you want to start fine-tuning from scratch, use 'distrilbert-base-uncased'. Below we also define the output paths where model predictions will be written."
   ]
  },
  {
   "cell_type": "code",
   "execution_count": 1,
   "metadata": {
    "ExecuteTime": {
     "end_time": "2024-03-05T12:53:56.121880297Z",
     "start_time": "2024-03-05T12:53:56.096168037Z"
    },
    "tags": []
   },
   "outputs": [],
   "source": [
    "# model1,2,3 for loading fine-tuned model, \"distilbert-base-uncased\" for fine-tuning again\n",
    "model = \"distilbert-base-uncased\"\n",
    "model1 = \"models/BERT1_new\" \n",
    "model2 = \"models/BERT2_new\"\n",
    "model3 = \"models/BERT3_new\" \n",
    "\n",
    "output_path1 = \"prediction_output/BERT1_predictions.tsv\"\n",
    "output_path2 = \"prediction_output/BERT2_predictions.tsv\"\n",
    "output_path3 = \"prediction_output/BERT3_predictions.tsv\""
   ]
  },
  {
   "cell_type": "markdown",
   "metadata": {},
   "source": [
    "### Step 1: Preprocessing\n",
    "\n",
    "Next we define file paths to the original dataset, which should be located in the 'data' subdirectory. The transform_raw_data function has three different versions, since we train three different models. \n",
    "\n",
    "Commonalities between versions: remove sentences that contain no predicates, duplicate the sentences depending on the number of predicates they contain. This means if the input sentence has five predicates, the sentence will be copied five times. Only the following information is kept after processing: sentence ids, token ids, tokens, gold labels, some form of predicate information.\n",
    "\n",
    "Differences between versions: predicate information is processed differently in the sentences for BERT input.\n",
    "- V1 (baseline): Obama went to Paris last week. [SEP] went\n",
    "- V2: Obama went to Paris last week. [SEP] Obama went to\n",
    "- V3: Obama [PRED] went to Paris last week.\n",
    "\n",
    "In Version 1, our aim is to mark which token is the predicate for the model after the SEP token (Shi and Lin, 2019). In Version 2, we provide the context window of the predicate, which can help the model disambiguate which token is the predicate in case the sentence contains the same predicate token twice (Zhou and Xu, 2015). In Version 3, we directly mark the predicate token by inserting a 'PRED' token immediately before the predicate itself (Khandelwal and Sawant, 2020)."
   ]
  },
  {
   "cell_type": "code",
   "execution_count": null,
   "metadata": {
    "ExecuteTime": {
     "end_time": "2024-03-05T12:54:10.204763995Z",
     "start_time": "2024-03-05T12:54:01.261719069Z"
    },
    "tags": []
   },
   "outputs": [],
   "source": [
    "# Transforming raw data into BERT format suitable for BERT input\n",
    "input_train = 'data/en_ewt-up-train.conllu'  \n",
    "input_dev = 'data/en_ewt-up-dev.conllu' \n",
    "input_test = 'data/en_ewt-up-test.conllu' \n",
    "\n",
    "# Call the function to perform the preprocessing transformation\n",
    "transform_raw_data_v1(input_train, 'data/bert-train1-new.conllu')\n",
    "transform_raw_data_v1(input_dev, 'data/bert-dev1-new.conllu')\n",
    "transform_raw_data_v1(input_test, 'data/bert-test1-new.conllu')\n",
    "\n",
    "transform_raw_data_v2(input_train, 'data/bert-train2-new.conllu')\n",
    "transform_raw_data_v2(input_dev, 'data/bert-dev2-new.conllu')\n",
    "transform_raw_data_v2(input_test, 'data/bert-test2-new.conllu')\n",
    "\n",
    "transform_raw_data_v3(input_train, 'data/bert-train3-new.conllu')\n",
    "transform_raw_data_v3(input_dev, 'data/bert-dev3-new.conllu')\n",
    "transform_raw_data_v3(input_test, 'data/bert-test3-new.conllu')"
   ]
  },
  {
   "cell_type": "markdown",
   "metadata": {},
   "source": [
    "### Step 2: Dataset Creation\n",
    "In the next step we are using the functions from 'utils_data_processing'. \n",
    "\n",
    "To prepare our dataset for the SRL task with DistilBERT we are first loading the file path into a Pandas DataFrame with the columns 'sentence_id', 'token_id', 'token', and 'argument'. \n",
    "\n",
    "Then we transform the DataFrame  into a format that is suitable for training by grouping tokens by their sentence_id and converting argument labels into numerical indices. \n",
    "\n",
    "Lastly, we use the main function which extracts all unique argument labels from the training, validation, and test sets to create a label mapping and transforms the structured data into Hugging Face 'Dataset' objects. \n",
    "\n"
   ]
  },
  {
   "cell_type": "code",
   "execution_count": 6,
   "metadata": {
    "ExecuteTime": {
     "end_time": "2024-03-05T12:54:15.012314311Z",
     "start_time": "2024-03-05T12:54:10.175030711Z"
    },
    "tags": []
   },
   "outputs": [],
   "source": [
    "#dataset_dict1, argument_label_mapping1 = create_datasets('data/bert-train1-new.conllu', 'data/bert-test1-new.conllu', 'data/bert-dev1-new.conllu')\n",
    "dataset_dict2, argument_label_mapping2 = create_datasets('data/bert-train2-new.conllu', 'data/bert-test2-new.conllu', 'data/bert-dev2-new.conllu')\n",
    "#dataset_dict3, argument_label_mapping3 = create_datasets('data/bert-train3-new.conllu', 'data/bert-test3-new.conllu', 'data/bert-dev3-new.conllu')"
   ]
  },
  {
   "cell_type": "markdown",
   "metadata": {},
   "source": [
    "### Step 3: Training and Predicting\n",
    "For the next step we are using the functions from 'utils_model_training.py'. This section is about the model training process with specialized functions to prepare and fine-tune the DistilBERT model for the SRL task. \n",
    "\n",
    "Firstly, we begin by adjusting the tokens that appear after the special [SEP] token to ensure that they are not included in the loss calculations. This is done because we want to focus on the meaningful elements in the sentences during training. \n",
    "\n",
    "Secondly, we tokenize the data into subtokens and align them with their word_id's to make sure that the subtokens match correctly to their semantic roles. \n",
    "\n",
    "Thirdly, we standardize the input lengths across the dataset, by determining the maximum sequence length. This is necessary to make sure the input sentences are padded correctly. \n",
    "\n",
    "Lastly, the model and tokenizer are initialized with pre-trained settings, a trainer is used to manage the fine-tuning. \n",
    "\n",
    " "
   ]
  },
  {
   "cell_type": "code",
   "execution_count": 7,
   "metadata": {
    "ExecuteTime": {
     "end_time": "2024-03-05T12:54:31.861937527Z",
     "start_time": "2024-03-05T12:54:16.366994369Z"
    },
    "tags": []
   },
   "outputs": [
    {
     "data": {
      "application/vnd.jupyter.widget-view+json": {
       "model_id": "",
       "version_major": 2,
       "version_minor": 0
      },
      "text/plain": [
       "Map:   0%|          | 0/40482 [00:00<?, ? examples/s]"
      ]
     },
     "metadata": {},
     "output_type": "display_data"
    },
    {
     "data": {
      "application/vnd.jupyter.widget-view+json": {
       "model_id": "",
       "version_major": 2,
       "version_minor": 0
      },
      "text/plain": [
       "Map:   0%|          | 0/4977 [00:00<?, ? examples/s]"
      ]
     },
     "metadata": {},
     "output_type": "display_data"
    },
    {
     "data": {
      "application/vnd.jupyter.widget-view+json": {
       "model_id": "",
       "version_major": 2,
       "version_minor": 0
      },
      "text/plain": [
       "Map:   0%|          | 0/4799 [00:00<?, ? examples/s]"
      ]
     },
     "metadata": {},
     "output_type": "display_data"
    }
   ],
   "source": [
    "# If you want to train the model from scratch, replace the first argument of the 'set_trainer' function to 'model'\n",
    "\n",
    "#tokenizer1, trainer1, tokenized_dataset1 = set_trainer(model1, dataset_dict1)\n",
    "tokenizer2, trainer2, tokenized_dataset2 = set_trainer(model2, dataset_dict2)\n",
    "# tokenizer3, trainer3, tokenized_dataset3 = set_trainer(model3, dataset_dict3)"
   ]
  },
  {
   "cell_type": "code",
   "execution_count": null,
   "metadata": {
    "colab": {
     "base_uri": "https://localhost:8080/",
     "height": 345
    },
    "id": "fS4CDblL3AP1",
    "outputId": "93719733-3419-4c81-8bb6-333db27c4e00",
    "tags": []
   },
   "outputs": [],
   "source": [
    "# Uncomment desired model to start the fine-tuning process of \"distilbert-base-uncased\". You can skip this code block if you only want to evaluate an existing model.\n",
    "\n",
    "# trainer1.train()\n",
    "# trainer2.train()\n",
    "# trainer3.train()"
   ]
  },
  {
   "cell_type": "code",
   "execution_count": null,
   "metadata": {},
   "outputs": [],
   "source": [
    "# If you fine-tuned a model, you can use this code to save the model for evaluation later.\n",
    "\n",
    "#trainer.save_model(\"enter path\")"
   ]
  },
  {
   "cell_type": "code",
   "execution_count": 8,
   "metadata": {
    "ExecuteTime": {
     "end_time": "2024-03-05T12:56:20.763782771Z",
     "start_time": "2024-03-05T12:54:43.371549837Z"
    },
    "tags": []
   },
   "outputs": [
    {
     "name": "stderr",
     "output_type": "stream",
     "text": [
      "You're using a DistilBertTokenizerFast tokenizer. Please note that with a fast tokenizer, using the `__call__` method is faster than using a method to encode the text followed by a call to the `pad` method to get a padded encoding.\n"
     ]
    },
    {
     "data": {
      "text/html": [],
      "text/plain": [
       "<IPython.core.display.HTML object>"
      ]
     },
     "metadata": {},
     "output_type": "display_data"
    }
   ],
   "source": [
    "#prediction_output(trainer1, tokenizer1, tokenized_dataset1, argument_label_mapping1, output_path1)\n",
    "prediction_output(trainer2, tokenizer2, tokenized_dataset2, argument_label_mapping2, output_path2)\n",
    "# prediction_output(trainer3, tokenizer3, tokenized_dataset3, argument_label_mapping3, output_path3)"
   ]
  },
  {
   "cell_type": "markdown",
   "metadata": {},
   "source": [
    "### Step 4: Evaluation\n",
    "\n",
    "In the next step we are using the functions from 'utils_evaluation.py'. This script contains a function to evaluate the performances of the DistillBERT models by reading in the predicted labels and gold labels from the data. The evaluation metrics include the precision, recall, and F1-scores on token level for each argument class. Furthermore, aggregated scores are measured by compiling all tokens' true and predicted labels across the dataset. \n"
   ]
  },
  {
   "cell_type": "code",
   "execution_count": 6,
   "metadata": {
    "tags": []
   },
   "outputs": [
    {
     "name": "stdout",
     "output_type": "stream",
     "text": [
      "Classification Report:\n",
      "              precision    recall  f1-score   support\n",
      "\n",
      "        ARG0      0.867     0.883     0.875      1733\n",
      "        ARG1      0.848     0.897     0.872      3241\n",
      "    ARG1-DSP      0.000     0.000     0.000         4\n",
      "        ARG2      0.778     0.773     0.776      1129\n",
      "        ARG3      0.000     0.000     0.000        74\n",
      "        ARG4      0.688     0.589     0.635        56\n",
      "        ARG5      0.000     0.000     0.000         1\n",
      "        ARGA      0.000     0.000     0.000         2\n",
      "    ARGM-ADJ      0.718     0.772     0.744       228\n",
      "    ARGM-ADV      0.763     0.599     0.671       496\n",
      "    ARGM-CAU      0.500     0.652     0.566        46\n",
      "    ARGM-COM      0.500     0.077     0.133        13\n",
      "    ARGM-CXN      0.600     0.250     0.353        12\n",
      "    ARGM-DIR      0.500     0.383     0.434        47\n",
      "    ARGM-DIS      0.770     0.698     0.732       182\n",
      "    ARGM-EXT      0.769     0.762     0.766       105\n",
      "    ARGM-GOL      1.000     0.083     0.154        24\n",
      "    ARGM-LOC      0.569     0.657     0.610       207\n",
      "    ARGM-LVB      0.713     0.826     0.765        69\n",
      "    ARGM-MNR      0.603     0.473     0.530       148\n",
      "    ARGM-MOD      0.975     0.959     0.967       442\n",
      "    ARGM-NEG      0.972     0.958     0.965       216\n",
      "    ARGM-PRD      0.429     0.205     0.277        44\n",
      "    ARGM-PRP      0.550     0.587     0.568        75\n",
      "    ARGM-PRR      0.746     0.681     0.712        69\n",
      "    ARGM-TMP      0.816     0.858     0.837       543\n",
      "      C-ARG0      0.000     0.000     0.000         3\n",
      "      C-ARG1      0.634     0.500     0.559        52\n",
      "  C-ARG1-DSP      0.000     0.000     0.000         1\n",
      "      C-ARG2      0.500     0.143     0.222         7\n",
      "      C-ARG3      0.000     0.000     0.000         2\n",
      "  C-ARGM-CXN      0.000     0.000     0.000         5\n",
      "  C-ARGM-LOC      0.000     0.000     0.000         1\n",
      "      R-ARG0      0.859     0.910     0.884        67\n",
      "      R-ARG1      0.759     0.846     0.800        52\n",
      "      R-ARG2      0.000     0.000     0.000         1\n",
      "  R-ARGM-ADJ      0.000     0.000     0.000         1\n",
      "  R-ARGM-ADV      0.000     0.000     0.000         1\n",
      "  R-ARGM-DIR      0.000     0.000     0.000         1\n",
      "  R-ARGM-LOC      0.389     0.778     0.519         9\n",
      "  R-ARGM-MNR      0.000     0.000     0.000         8\n",
      "  R-ARGM-TMP      0.000     0.000     0.000         2\n",
      "           _      0.991     0.992     0.991     91725\n",
      "\n",
      "    accuracy                          0.975    101144\n",
      "   macro avg      0.461     0.414     0.417    101144\n",
      "weighted avg      0.974     0.975     0.974    101144\n"
     ]
    }
   ],
   "source": [
    "# evaluate_model_from_file(output_path1)\n",
    "# evaluate_model_from_file(output_path2)\n",
    "evaluate_model_from_file(output_path3)"
   ]
  },
  {
   "cell_type": "markdown",
   "metadata": {},
   "source": [
    "### Results\n",
    "\n"
   ]
  },
  {
   "cell_type": "markdown",
   "metadata": {},
   "source": [
    "| Class      | Precision Model 1 | Precision Model 2 | Precision Model 3 | Recall Model 1 | Recall Model 2 | Recall Model 3 | F1-Score Model 1 | F1-Score Model 2 | F1-Score Model 3 | Support |\n",
    "|------------|-------------------|-------------------|-------------------|----------------|----------------|----------------|------------------|------------------|------------------|---------|\n",
    "| ARG0       | 0.838             | 0.856             | 0.867             | 0.866          | 0.881          | 0.883          | 0.851            | 0.868            | 0.875            | 1733    |\n",
    "| ARG1       | 0.817             | 0.84              | 0.848             | 0.864          | 0.885          | 0.897          | 0.84             | 0.862            | 0.872            | 3241    |\n",
    "| ARG1-DSP   | 0                 | 0                 | 0                 | 0              | 0              | 0              | 0                | 0                | 0                | 4       |\n",
    "| ARG2       | 0.761             | 0.77              | 0.778             | 0.724          | 0.757          | 0.773          | 0.742            | 0.763            | 0.776            | 1129    |\n",
    "| ARG3       | 0.857             | 0                 | 0                 | 0.081          | 0              | 0              | 0.148            | 0                | 0                | 74      |\n",
    "| ARG4       | 0.6               | 0.696             | 0.688             | 0.589          | 0.571          | 0.589          | 0.595            | 0.627            | 0.635            | 56      |\n",
    "| ARG5       | 0                 | 0                 | 0                 | 0              | 0              | 0              | 0                | 0                | 0                | 1       |\n",
    "| ARGA       | 0                 | 0                 | 0                 | 0              | 0              | 0              | 0                | 0                | 0                | 2       |\n",
    "| ARGM-ADJ   | 0.711             | 0.702             | 0.718             | 0.746          | 0.754          | 0.772          | 0.728            | 0.727            | 0.744            | 228     |\n",
    "| ARGM-ADV   | 0.734             | 0.723             | 0.763             | 0.516          | 0.583          | 0.599          | 0.606            | 0.645            | 0.671            | 496     |\n",
    "| ARGM-CAU   | 0.531             | 0.538             | 0.5               | 0.565          | 0.609          | 0.652          | 0.547            | 0.571            | 0.566            | 46      |\n",
    "| ARGM-COM   | 0.667             | 0.333             | 0.5               | 0.154          | 0.077          | 0.077          | 0.25             | 0.125            | 0.133            | 13      |\n",
    "| ARGM-CXN   | 1                 | 0.5               | 0.6               | 0.25           | 0.167          | 0.25           | 0.4              | 0.25             | 0.353            | 12      |\n",
    "| ARGM-DIR   | 0.433             | 0.391             | 0.5               | 0.277          | 0.383          | 0.383          | 0.338            | 0.387            | 0.434            | 47      |\n",
    "| ARGM-DIS   | 0.76              | 0.792             | 0.77              | 0.764          | 0.775          | 0.698          | 0.762            | 0.783            | 0.732            | 182     |\n",
    "| ARGM-EXT   | 0.792             | 0.794             | 0.769             | 0.762          | 0.733          | 0.762          | 0.777            | 0.762            | 0.766            | 105     |\n",
    "| ARGM-GOL   | 0                 | 1                 | 1                 | 0              | 0.042          | 0.083          | 0                | 0.08             | 0.154            | 24      |\n",
    "| ARGM-LOC   | 0.555             | 0.573             | 0.569             | 0.614          | 0.662          | 0.657          | 0.583            | 0.614            | 0.61             | 207     |\n",
    "| ARGM-LVB   | 0.659             | 0.753             | 0.713             | 0.812          | 0.797          | 0.826          | 0.727            | 0.775            | 0.765            | 69      |\n",
    "| ARGM-MNR   | 0.6               | 0.645             | 0.603             | 0.426          | 0.466          | 0.473          | 0.498            | 0.541            | 0.53             | 148     |\n",
    "| ARGM-MOD   | 0.898             | 0.959             | 0.975             | 0.952          | 0.957          | 0.959          | 0.924            | 0.958            | 0.967            | 442     |\n",
    "| ARGM-NEG   | 0.904             | 0.933             | 0.972             | 0.954          | 0.963          | 0.958          | 0.928            | 0.948            | 0.965            | 216     |\n",
    "| ARGM-PRD   | 0.5               | 0.37              | 0.429             | 0.114          | 0.227          | 0.205          | 0.185            | 0.282            | 0.277            | 44      |\n",
    "| ARGM-PRP   | 0.45              | 0.58              | 0.55              | 0.48           | 0.627          | 0.587          | 0.465            | 0.603            | 0.568            | 75      |\n",
    "| ARGM-PRR   | 0.754             | 0.746             | 0.746             | 0.667          | 0.681          | 0.681          | 0.708            | 0.712            | 0.712            | 69      |\n",
    "| ARGM-TMP   | 0.776             | 0.774             | 0.816             | 0.829          | 0.843          | 0.858          | 0.801            | 0.807            | 0.837            | 543     |\n",
    "| C-ARG0     | 0                 | 0                 | 0                 | 0              | 0              | 0              | 0                | 0                | 0                | 3       |\n",
    "| C-ARG1     | 0.58              | 0.652             | 0.634             | 0.558          | 0.577          | 0.5            | 0.569            | 0.612            | 0.559            | 52      |\n",
    "| C-ARG1-DSP | 0                 | 0                 | 0                 | 0              | 0              | 0              | 0                | 0                | 0                | 1       |\n",
    "| C-ARG2     | 0.5               | 1                 | 0.5               | 0.286          | 0.286          | 0.143          | 0.364            | 0.444            | 0.222            | 7       |\n",
    "| C-ARG3     | 0                 | 0                 | 0                 | 0              | 0              | 0              | 0                | 0                | 0                | 2       |\n",
    "| C-ARGM-CXN | 0                 | 0.333             | 0                 | 0              | 0.2            | 0              | 0                | 0.25             | 0                | 5       |\n",
    "| C-ARGM-LOC | 0                 | 0                 | 0                 | 0              | 0              | 0              | 0                | 0                | 0                | 1       |\n",
    "| R-ARG0     | 0.87              | 0.886             | 0.859             | 0.896          | 0.925          | 0.91           | 0.882            | 0.905            | 0.884            | 67      |\n",
    "| R-ARG1     | 0.736             | 0.759             | 0.759             | 0.75           | 0.788          | 0.846          | 0.743            | 0.774            | 0.8              | 52      |\n",
    "| R-ARG2     | 0                 | 0                 | 0                 | 0              | 0              | 0              | 0                | 0                | 0                | 1       |\n",
    "| R-ARGM-ADJ | 0                 | 0                 | 0                 | 0              | 0              | 0              | 0                | 0                | 0                | 1       |\n",
    "| R-ARGM-ADV | 0                 | 0                 | 0                 | 0              | 0              | 0              | 0                | 0                | 0                | 1       |\n",
    "| R-ARGM-DIR | 0                 | 0                 | 0                 | 0              | 0              | 0              | 0                | 0                | 0                | 1       |\n",
    "| R-ARGM-LOC | 0.316             | 0.273             | 0.389             | 0.667          | 0.667          | 0.778          | 0.429            | 0.387            | 0.519            | 9       |\n",
    "| R-ARGM-MNR | 0                 | 0                 | 0                 | 0              | 0              | 0              | 0                | 0                | 0                | 8       |\n",
    "| R-ARGM-TMP | 0                 | 0                 | 0                 | 0              | 0              | 0              | 0                | 0                | 0                | 2       |\n",
    "| _          | 0.988             | 0.99              | 0.991             | 0.989          | 0.99           | 0.992          | 0.988            | 0.99             | 0.991            | 91725   |\n"
   ]
  },
  {
   "cell_type": "markdown",
   "metadata": {},
   "source": [
    "| **Aggregated Scores**    | Model 1  | Model 2  | Model 3 |\n",
    "|--------------------------|----------|----------|---------|\n",
    "| Accuracy                 | 0.97     | 0.973    | 0.975   |\n",
    "| Macro Avg (F1)           | 0.404    | 0.42     | 0.417   |\n",
    "| Weighted Avg (F1)        | 0.969    | 0.972    | 0.974   |\n",
    "| Macro Avg (Recall)       | 0.399    | 0.416    | 0.414   |\n",
    "| Weighted Avg (Recall)    | 0.97     | 0.973    | 0.975   |\n",
    "| Macro Avg (Precision)    | 0.455    | 0.469    | 0.461   |\n",
    "| Weighted Avg (Precision) | 0.969    | 0.972    | 0.974   |\n",
    "\n",
    "\n",
    "The performance scores displayed in the tables reflect that the advanced models perform only slighly better than our baseline model. Regarding the macro averages, which consider each class to be of equal weight, Model 2 performs with a small increase in the F1, precision and recall scores compared to Model 1 and Model 3.\n",
    "If we consider individual classes, ARG1, ARG0 and ARG2 are the most frequent ones after the '_' class, which stands for non-argument tokens. The F1-scores for these specific argument classes indicate that Model 3 performs better than the other two models."
   ]
  },
  {
   "cell_type": "markdown",
   "metadata": {},
   "source": [
    "### Limitations of baseline model\n",
    "\n",
    "In the baseline model, the predicate was simply indicated after the [SEP] token, and this causes one of the main limitations of the baseline model, which is the possible ambiguity of the predicate. In some sentences, the predicate can have multiple meanings based on the surrounding words, and this can change the semantic roles of tokens. Take the following sentence as an example:\n",
    "\n",
    "A. The boy broke the window with his ball.\n",
    "\n",
    "B. The comedy show broke his concentration. \n",
    "\n",
    "In the first sentence, ‘the boy’ is the agent, while in the second sentence, 'the comedy show' is the causer. The lack of context information may hinder the model's learning and ability to assign the correct roles. \n",
    "\n",
    "In contrast, the second model does include some context by providing the words before and after the predicate after the [SEP] token. This might help the model understand the meaning of the predicate based on its surroundings and be more accurate when predicting the roles. \n",
    "\n",
    "The second limitation of the baseline model is the vagueness of the predicate behind the [SEP] token. Some sentences contain multiple instances of the same word where only one of them is the predicate for the given data instance. It can be challenging for the model to identify which one is meant when the predicate is given after the [SEP] token without any additional positional information. Again, with the contextual window of the predicate, the second model might help disambiguate the identification of the correct predicate and learn the correct role assignments. \n",
    "\n",
    "We also included another advanced model that accentuates the predicate by inserting a special token '[PRED]' right before the predicate. This special token can also help with the identification of the right predicate when this word gets repeated in the sentence."
   ]
  },
  {
   "cell_type": "markdown",
   "metadata": {},
   "source": [
    "### Limitations of advanced models\n",
    "\n",
    "As mentioned before, the second model includes the context window around the predicate after the [SEP] token. This process attempts to disambiguate the identification of the correct predicate and also to disambiguate the sense of the predicate. However, the effectiveness of these attempts relies heavily on the size of the context. A small window might not give enough information about the context of the predicate, such as sentences with punctuation marks immediately before or after the predicate. Alternatively, a too large window might give so much context that the model cannot depict what it has to learn anymore. This could create more confusion for the model rather than clarity. Moreover, adding a large context window might create more noise and make the model too complex to learn efficiently. \n",
    "\n",
    "\n",
    "With the third model, which used a special [PRED] token before the predicate, a limitation can be the overemphasis of the predicate. When we insert a special token, the model might rely too much on the marked tokens and may miss the general contextual cues. This can cause issues in performance when data is not annotated properly or when generalizing on new data that is not annotated."
   ]
  },
  {
   "cell_type": "markdown",
   "metadata": {},
   "source": [
    "### Conclusions and Future Directions\n",
    "\n",
    "The advanced models have shown an insignificantly small improvement in the weighted and macro F1, precision, and recall scores compared to the baseline model. This indicates different input strategies to emphasize the predicate did not improve the generalization as expected in this experiment. Future work could include experimenting with including synthetic data for underperforming categories and patterns, alongside exploring different hyperparameters such as learning rates, batch sizes, and sequence lengths to potentially enhance model performance."
   ]
  },
  {
   "cell_type": "markdown",
   "metadata": {},
   "source": [
    "### References:\n",
    "\n",
    "Shi, P. and Lin, J., 2019. Simple bert models for relation extraction and semantic role labeling. arXiv preprint arXiv:1904.05255.\n",
    "https://arxiv.org/pdf/1904.05255.pdf\n",
    "\n",
    "Zhou, J. and Xu, W., 2015, July. End-to-end learning of semantic role labeling using recurrent neural networks. In Proceedings of the 53rd Annual Meeting of the Association for Computational Linguistics and the 7th International Joint Conference on Natural Language Processing (Volume 1: Long Papers) (pp. 1127-1137).\n",
    "https://aclanthology.org/P15-1109.pdf\n",
    "\n",
    "Khandelwal, A. and Sawant, S., 2020, May. NegBERT: A Transfer Learning Approach for Negation Detection and Scope Resolution. In Proceedings of the Twelfth Language Resources and Evaluation Conference (pp. 5739-5748). http://www.lrec-conf.org/proceedings/lrec2020/pdf/2020.lrec-1.704.pdf\n",
    "\n"
   ]
  },
  {
   "cell_type": "markdown",
   "metadata": {},
   "source": [
    "### End of Notebook\n"
   ]
  }
 ],
 "metadata": {
  "colab": {
   "provenance": []
  },
  "kernelspec": {
   "display_name": "Python 3 (ipykernel)",
   "language": "python",
   "name": "python3"
  },
  "language_info": {
   "codemirror_mode": {
    "name": "ipython",
    "version": 3
   },
   "file_extension": ".py",
   "mimetype": "text/x-python",
   "name": "python",
   "nbconvert_exporter": "python",
   "pygments_lexer": "ipython3",
   "version": "3.9.6"
  },
  "widgets": {
   "application/vnd.jupyter.widget-state+json": {
    "025e5a6bdaa3498da9445a6b93ba1014": {
     "model_module": "@jupyter-widgets/controls",
     "model_module_version": "1.5.0",
     "model_name": "FloatProgressModel",
     "state": {
      "_dom_classes": [],
      "_model_module": "@jupyter-widgets/controls",
      "_model_module_version": "1.5.0",
      "_model_name": "FloatProgressModel",
      "_view_count": null,
      "_view_module": "@jupyter-widgets/controls",
      "_view_module_version": "1.5.0",
      "_view_name": "ProgressView",
      "bar_style": "success",
      "description": "",
      "description_tooltip": null,
      "layout": "IPY_MODEL_373aca9f4dd04dfc80b2f81c5f9b6c9b",
      "max": 4977,
      "min": 0,
      "orientation": "horizontal",
      "style": "IPY_MODEL_fdfeba469484433f88bab9efa2e34a52",
      "value": 4977
     }
    },
    "0d19268784c64742a54f12922f8a39fb": {
     "model_module": "@jupyter-widgets/base",
     "model_module_version": "1.2.0",
     "model_name": "LayoutModel",
     "state": {
      "_model_module": "@jupyter-widgets/base",
      "_model_module_version": "1.2.0",
      "_model_name": "LayoutModel",
      "_view_count": null,
      "_view_module": "@jupyter-widgets/base",
      "_view_module_version": "1.2.0",
      "_view_name": "LayoutView",
      "align_content": null,
      "align_items": null,
      "align_self": null,
      "border": null,
      "bottom": null,
      "display": null,
      "flex": null,
      "flex_flow": null,
      "grid_area": null,
      "grid_auto_columns": null,
      "grid_auto_flow": null,
      "grid_auto_rows": null,
      "grid_column": null,
      "grid_gap": null,
      "grid_row": null,
      "grid_template_areas": null,
      "grid_template_columns": null,
      "grid_template_rows": null,
      "height": null,
      "justify_content": null,
      "justify_items": null,
      "left": null,
      "margin": null,
      "max_height": null,
      "max_width": null,
      "min_height": null,
      "min_width": null,
      "object_fit": null,
      "object_position": null,
      "order": null,
      "overflow": null,
      "overflow_x": null,
      "overflow_y": null,
      "padding": null,
      "right": null,
      "top": null,
      "visibility": null,
      "width": null
     }
    },
    "0ed265eddb6147cbaf3a33a3c3233b82": {
     "model_module": "@jupyter-widgets/controls",
     "model_module_version": "1.5.0",
     "model_name": "HBoxModel",
     "state": {
      "_dom_classes": [],
      "_model_module": "@jupyter-widgets/controls",
      "_model_module_version": "1.5.0",
      "_model_name": "HBoxModel",
      "_view_count": null,
      "_view_module": "@jupyter-widgets/controls",
      "_view_module_version": "1.5.0",
      "_view_name": "HBoxView",
      "box_style": "",
      "children": [
       "IPY_MODEL_64e6303f27fa4dcd872699a20da42394",
       "IPY_MODEL_3949954c2d474f84a05e1e1ea8f24a0b",
       "IPY_MODEL_19a94de6b0a64bd8931643683f42a46d"
      ],
      "layout": "IPY_MODEL_c52debdf2e2a4972b7565db3109a6c1f"
     }
    },
    "0fb4316834794b5ea567ceb02bff20d9": {
     "model_module": "@jupyter-widgets/controls",
     "model_module_version": "1.5.0",
     "model_name": "HTMLModel",
     "state": {
      "_dom_classes": [],
      "_model_module": "@jupyter-widgets/controls",
      "_model_module_version": "1.5.0",
      "_model_name": "HTMLModel",
      "_view_count": null,
      "_view_module": "@jupyter-widgets/controls",
      "_view_module_version": "1.5.0",
      "_view_name": "HTMLView",
      "description": "",
      "description_tooltip": null,
      "layout": "IPY_MODEL_c89e12fdd24444ebb2349f96b8f64ef4",
      "placeholder": "​",
      "style": "IPY_MODEL_b4fa85154acb413ab3f038998a50fc88",
      "value": "Map: 100%"
     }
    },
    "19a94de6b0a64bd8931643683f42a46d": {
     "model_module": "@jupyter-widgets/controls",
     "model_module_version": "1.5.0",
     "model_name": "HTMLModel",
     "state": {
      "_dom_classes": [],
      "_model_module": "@jupyter-widgets/controls",
      "_model_module_version": "1.5.0",
      "_model_name": "HTMLModel",
      "_view_count": null,
      "_view_module": "@jupyter-widgets/controls",
      "_view_module_version": "1.5.0",
      "_view_name": "HTMLView",
      "description": "",
      "description_tooltip": null,
      "layout": "IPY_MODEL_e41a3696101d4fd2beb5db1603908e58",
      "placeholder": "​",
      "style": "IPY_MODEL_6852169a5555409eb818a168fb492055",
      "value": " 4799/4799 [00:01&lt;00:00, 2619.84 examples/s]"
     }
    },
    "1e985afde8c24ccd9ac829d31f0d6237": {
     "model_module": "@jupyter-widgets/controls",
     "model_module_version": "1.5.0",
     "model_name": "ProgressStyleModel",
     "state": {
      "_model_module": "@jupyter-widgets/controls",
      "_model_module_version": "1.5.0",
      "_model_name": "ProgressStyleModel",
      "_view_count": null,
      "_view_module": "@jupyter-widgets/base",
      "_view_module_version": "1.2.0",
      "_view_name": "StyleView",
      "bar_color": null,
      "description_width": ""
     }
    },
    "23287704c5d445d5ab5f6c7257f4d7ba": {
     "model_module": "@jupyter-widgets/controls",
     "model_module_version": "1.5.0",
     "model_name": "ProgressStyleModel",
     "state": {
      "_model_module": "@jupyter-widgets/controls",
      "_model_module_version": "1.5.0",
      "_model_name": "ProgressStyleModel",
      "_view_count": null,
      "_view_module": "@jupyter-widgets/base",
      "_view_module_version": "1.2.0",
      "_view_name": "StyleView",
      "bar_color": null,
      "description_width": ""
     }
    },
    "268628c5f1864d9e8dd70e08c0bbf334": {
     "model_module": "@jupyter-widgets/controls",
     "model_module_version": "1.5.0",
     "model_name": "HTMLModel",
     "state": {
      "_dom_classes": [],
      "_model_module": "@jupyter-widgets/controls",
      "_model_module_version": "1.5.0",
      "_model_name": "HTMLModel",
      "_view_count": null,
      "_view_module": "@jupyter-widgets/controls",
      "_view_module_version": "1.5.0",
      "_view_name": "HTMLView",
      "description": "",
      "description_tooltip": null,
      "layout": "IPY_MODEL_4f6d95c4b85642e1af5d3d0dd29835d2",
      "placeholder": "​",
      "style": "IPY_MODEL_8d0e0eb09f454d5082f7b719b921304a",
      "value": " 40482/40482 [00:22&lt;00:00, 2383.08 examples/s]"
     }
    },
    "373aca9f4dd04dfc80b2f81c5f9b6c9b": {
     "model_module": "@jupyter-widgets/base",
     "model_module_version": "1.2.0",
     "model_name": "LayoutModel",
     "state": {
      "_model_module": "@jupyter-widgets/base",
      "_model_module_version": "1.2.0",
      "_model_name": "LayoutModel",
      "_view_count": null,
      "_view_module": "@jupyter-widgets/base",
      "_view_module_version": "1.2.0",
      "_view_name": "LayoutView",
      "align_content": null,
      "align_items": null,
      "align_self": null,
      "border": null,
      "bottom": null,
      "display": null,
      "flex": null,
      "flex_flow": null,
      "grid_area": null,
      "grid_auto_columns": null,
      "grid_auto_flow": null,
      "grid_auto_rows": null,
      "grid_column": null,
      "grid_gap": null,
      "grid_row": null,
      "grid_template_areas": null,
      "grid_template_columns": null,
      "grid_template_rows": null,
      "height": null,
      "justify_content": null,
      "justify_items": null,
      "left": null,
      "margin": null,
      "max_height": null,
      "max_width": null,
      "min_height": null,
      "min_width": null,
      "object_fit": null,
      "object_position": null,
      "order": null,
      "overflow": null,
      "overflow_x": null,
      "overflow_y": null,
      "padding": null,
      "right": null,
      "top": null,
      "visibility": null,
      "width": null
     }
    },
    "3949954c2d474f84a05e1e1ea8f24a0b": {
     "model_module": "@jupyter-widgets/controls",
     "model_module_version": "1.5.0",
     "model_name": "FloatProgressModel",
     "state": {
      "_dom_classes": [],
      "_model_module": "@jupyter-widgets/controls",
      "_model_module_version": "1.5.0",
      "_model_name": "FloatProgressModel",
      "_view_count": null,
      "_view_module": "@jupyter-widgets/controls",
      "_view_module_version": "1.5.0",
      "_view_name": "ProgressView",
      "bar_style": "success",
      "description": "",
      "description_tooltip": null,
      "layout": "IPY_MODEL_9f2fdadb52014130864d54c2943fc551",
      "max": 4799,
      "min": 0,
      "orientation": "horizontal",
      "style": "IPY_MODEL_1e985afde8c24ccd9ac829d31f0d6237",
      "value": 4799
     }
    },
    "4f6d95c4b85642e1af5d3d0dd29835d2": {
     "model_module": "@jupyter-widgets/base",
     "model_module_version": "1.2.0",
     "model_name": "LayoutModel",
     "state": {
      "_model_module": "@jupyter-widgets/base",
      "_model_module_version": "1.2.0",
      "_model_name": "LayoutModel",
      "_view_count": null,
      "_view_module": "@jupyter-widgets/base",
      "_view_module_version": "1.2.0",
      "_view_name": "LayoutView",
      "align_content": null,
      "align_items": null,
      "align_self": null,
      "border": null,
      "bottom": null,
      "display": null,
      "flex": null,
      "flex_flow": null,
      "grid_area": null,
      "grid_auto_columns": null,
      "grid_auto_flow": null,
      "grid_auto_rows": null,
      "grid_column": null,
      "grid_gap": null,
      "grid_row": null,
      "grid_template_areas": null,
      "grid_template_columns": null,
      "grid_template_rows": null,
      "height": null,
      "justify_content": null,
      "justify_items": null,
      "left": null,
      "margin": null,
      "max_height": null,
      "max_width": null,
      "min_height": null,
      "min_width": null,
      "object_fit": null,
      "object_position": null,
      "order": null,
      "overflow": null,
      "overflow_x": null,
      "overflow_y": null,
      "padding": null,
      "right": null,
      "top": null,
      "visibility": null,
      "width": null
     }
    },
    "64e6303f27fa4dcd872699a20da42394": {
     "model_module": "@jupyter-widgets/controls",
     "model_module_version": "1.5.0",
     "model_name": "HTMLModel",
     "state": {
      "_dom_classes": [],
      "_model_module": "@jupyter-widgets/controls",
      "_model_module_version": "1.5.0",
      "_model_name": "HTMLModel",
      "_view_count": null,
      "_view_module": "@jupyter-widgets/controls",
      "_view_module_version": "1.5.0",
      "_view_name": "HTMLView",
      "description": "",
      "description_tooltip": null,
      "layout": "IPY_MODEL_6a07899c8ad044558cfc96d18468baf9",
      "placeholder": "​",
      "style": "IPY_MODEL_b1618d7b118b4028810b002f13faaabe",
      "value": "Map: 100%"
     }
    },
    "6852169a5555409eb818a168fb492055": {
     "model_module": "@jupyter-widgets/controls",
     "model_module_version": "1.5.0",
     "model_name": "DescriptionStyleModel",
     "state": {
      "_model_module": "@jupyter-widgets/controls",
      "_model_module_version": "1.5.0",
      "_model_name": "DescriptionStyleModel",
      "_view_count": null,
      "_view_module": "@jupyter-widgets/base",
      "_view_module_version": "1.2.0",
      "_view_name": "StyleView",
      "description_width": ""
     }
    },
    "6a07899c8ad044558cfc96d18468baf9": {
     "model_module": "@jupyter-widgets/base",
     "model_module_version": "1.2.0",
     "model_name": "LayoutModel",
     "state": {
      "_model_module": "@jupyter-widgets/base",
      "_model_module_version": "1.2.0",
      "_model_name": "LayoutModel",
      "_view_count": null,
      "_view_module": "@jupyter-widgets/base",
      "_view_module_version": "1.2.0",
      "_view_name": "LayoutView",
      "align_content": null,
      "align_items": null,
      "align_self": null,
      "border": null,
      "bottom": null,
      "display": null,
      "flex": null,
      "flex_flow": null,
      "grid_area": null,
      "grid_auto_columns": null,
      "grid_auto_flow": null,
      "grid_auto_rows": null,
      "grid_column": null,
      "grid_gap": null,
      "grid_row": null,
      "grid_template_areas": null,
      "grid_template_columns": null,
      "grid_template_rows": null,
      "height": null,
      "justify_content": null,
      "justify_items": null,
      "left": null,
      "margin": null,
      "max_height": null,
      "max_width": null,
      "min_height": null,
      "min_width": null,
      "object_fit": null,
      "object_position": null,
      "order": null,
      "overflow": null,
      "overflow_x": null,
      "overflow_y": null,
      "padding": null,
      "right": null,
      "top": null,
      "visibility": null,
      "width": null
     }
    },
    "71b9aaedd65a47f59ea327434c54404c": {
     "model_module": "@jupyter-widgets/base",
     "model_module_version": "1.2.0",
     "model_name": "LayoutModel",
     "state": {
      "_model_module": "@jupyter-widgets/base",
      "_model_module_version": "1.2.0",
      "_model_name": "LayoutModel",
      "_view_count": null,
      "_view_module": "@jupyter-widgets/base",
      "_view_module_version": "1.2.0",
      "_view_name": "LayoutView",
      "align_content": null,
      "align_items": null,
      "align_self": null,
      "border": null,
      "bottom": null,
      "display": null,
      "flex": null,
      "flex_flow": null,
      "grid_area": null,
      "grid_auto_columns": null,
      "grid_auto_flow": null,
      "grid_auto_rows": null,
      "grid_column": null,
      "grid_gap": null,
      "grid_row": null,
      "grid_template_areas": null,
      "grid_template_columns": null,
      "grid_template_rows": null,
      "height": null,
      "justify_content": null,
      "justify_items": null,
      "left": null,
      "margin": null,
      "max_height": null,
      "max_width": null,
      "min_height": null,
      "min_width": null,
      "object_fit": null,
      "object_position": null,
      "order": null,
      "overflow": null,
      "overflow_x": null,
      "overflow_y": null,
      "padding": null,
      "right": null,
      "top": null,
      "visibility": null,
      "width": null
     }
    },
    "7a4da4376c8e44c88b139ed19e9d7700": {
     "model_module": "@jupyter-widgets/controls",
     "model_module_version": "1.5.0",
     "model_name": "DescriptionStyleModel",
     "state": {
      "_model_module": "@jupyter-widgets/controls",
      "_model_module_version": "1.5.0",
      "_model_name": "DescriptionStyleModel",
      "_view_count": null,
      "_view_module": "@jupyter-widgets/base",
      "_view_module_version": "1.2.0",
      "_view_name": "StyleView",
      "description_width": ""
     }
    },
    "8d0e0eb09f454d5082f7b719b921304a": {
     "model_module": "@jupyter-widgets/controls",
     "model_module_version": "1.5.0",
     "model_name": "DescriptionStyleModel",
     "state": {
      "_model_module": "@jupyter-widgets/controls",
      "_model_module_version": "1.5.0",
      "_model_name": "DescriptionStyleModel",
      "_view_count": null,
      "_view_module": "@jupyter-widgets/base",
      "_view_module_version": "1.2.0",
      "_view_name": "StyleView",
      "description_width": ""
     }
    },
    "9f2fdadb52014130864d54c2943fc551": {
     "model_module": "@jupyter-widgets/base",
     "model_module_version": "1.2.0",
     "model_name": "LayoutModel",
     "state": {
      "_model_module": "@jupyter-widgets/base",
      "_model_module_version": "1.2.0",
      "_model_name": "LayoutModel",
      "_view_count": null,
      "_view_module": "@jupyter-widgets/base",
      "_view_module_version": "1.2.0",
      "_view_name": "LayoutView",
      "align_content": null,
      "align_items": null,
      "align_self": null,
      "border": null,
      "bottom": null,
      "display": null,
      "flex": null,
      "flex_flow": null,
      "grid_area": null,
      "grid_auto_columns": null,
      "grid_auto_flow": null,
      "grid_auto_rows": null,
      "grid_column": null,
      "grid_gap": null,
      "grid_row": null,
      "grid_template_areas": null,
      "grid_template_columns": null,
      "grid_template_rows": null,
      "height": null,
      "justify_content": null,
      "justify_items": null,
      "left": null,
      "margin": null,
      "max_height": null,
      "max_width": null,
      "min_height": null,
      "min_width": null,
      "object_fit": null,
      "object_position": null,
      "order": null,
      "overflow": null,
      "overflow_x": null,
      "overflow_y": null,
      "padding": null,
      "right": null,
      "top": null,
      "visibility": null,
      "width": null
     }
    },
    "b1618d7b118b4028810b002f13faaabe": {
     "model_module": "@jupyter-widgets/controls",
     "model_module_version": "1.5.0",
     "model_name": "DescriptionStyleModel",
     "state": {
      "_model_module": "@jupyter-widgets/controls",
      "_model_module_version": "1.5.0",
      "_model_name": "DescriptionStyleModel",
      "_view_count": null,
      "_view_module": "@jupyter-widgets/base",
      "_view_module_version": "1.2.0",
      "_view_name": "StyleView",
      "description_width": ""
     }
    },
    "b4643e3819ca4d7c986fd6153cd8b0ad": {
     "model_module": "@jupyter-widgets/controls",
     "model_module_version": "1.5.0",
     "model_name": "HBoxModel",
     "state": {
      "_dom_classes": [],
      "_model_module": "@jupyter-widgets/controls",
      "_model_module_version": "1.5.0",
      "_model_name": "HBoxModel",
      "_view_count": null,
      "_view_module": "@jupyter-widgets/controls",
      "_view_module_version": "1.5.0",
      "_view_name": "HBoxView",
      "box_style": "",
      "children": [
       "IPY_MODEL_e19445f071d54749a4b1688672ff3b69",
       "IPY_MODEL_025e5a6bdaa3498da9445a6b93ba1014",
       "IPY_MODEL_b52209b02f5847d79451ab8c1c669120"
      ],
      "layout": "IPY_MODEL_71b9aaedd65a47f59ea327434c54404c"
     }
    },
    "b4fa85154acb413ab3f038998a50fc88": {
     "model_module": "@jupyter-widgets/controls",
     "model_module_version": "1.5.0",
     "model_name": "DescriptionStyleModel",
     "state": {
      "_model_module": "@jupyter-widgets/controls",
      "_model_module_version": "1.5.0",
      "_model_name": "DescriptionStyleModel",
      "_view_count": null,
      "_view_module": "@jupyter-widgets/base",
      "_view_module_version": "1.2.0",
      "_view_name": "StyleView",
      "description_width": ""
     }
    },
    "b52209b02f5847d79451ab8c1c669120": {
     "model_module": "@jupyter-widgets/controls",
     "model_module_version": "1.5.0",
     "model_name": "HTMLModel",
     "state": {
      "_dom_classes": [],
      "_model_module": "@jupyter-widgets/controls",
      "_model_module_version": "1.5.0",
      "_model_name": "HTMLModel",
      "_view_count": null,
      "_view_module": "@jupyter-widgets/controls",
      "_view_module_version": "1.5.0",
      "_view_name": "HTMLView",
      "description": "",
      "description_tooltip": null,
      "layout": "IPY_MODEL_c18e5bca888a4cd88cca070427977adb",
      "placeholder": "​",
      "style": "IPY_MODEL_7a4da4376c8e44c88b139ed19e9d7700",
      "value": " 4977/4977 [00:01&lt;00:00, 2692.90 examples/s]"
     }
    },
    "bfe9f92559574e0baf50d71c1f785ddb": {
     "model_module": "@jupyter-widgets/base",
     "model_module_version": "1.2.0",
     "model_name": "LayoutModel",
     "state": {
      "_model_module": "@jupyter-widgets/base",
      "_model_module_version": "1.2.0",
      "_model_name": "LayoutModel",
      "_view_count": null,
      "_view_module": "@jupyter-widgets/base",
      "_view_module_version": "1.2.0",
      "_view_name": "LayoutView",
      "align_content": null,
      "align_items": null,
      "align_self": null,
      "border": null,
      "bottom": null,
      "display": null,
      "flex": null,
      "flex_flow": null,
      "grid_area": null,
      "grid_auto_columns": null,
      "grid_auto_flow": null,
      "grid_auto_rows": null,
      "grid_column": null,
      "grid_gap": null,
      "grid_row": null,
      "grid_template_areas": null,
      "grid_template_columns": null,
      "grid_template_rows": null,
      "height": null,
      "justify_content": null,
      "justify_items": null,
      "left": null,
      "margin": null,
      "max_height": null,
      "max_width": null,
      "min_height": null,
      "min_width": null,
      "object_fit": null,
      "object_position": null,
      "order": null,
      "overflow": null,
      "overflow_x": null,
      "overflow_y": null,
      "padding": null,
      "right": null,
      "top": null,
      "visibility": null,
      "width": null
     }
    },
    "c18e5bca888a4cd88cca070427977adb": {
     "model_module": "@jupyter-widgets/base",
     "model_module_version": "1.2.0",
     "model_name": "LayoutModel",
     "state": {
      "_model_module": "@jupyter-widgets/base",
      "_model_module_version": "1.2.0",
      "_model_name": "LayoutModel",
      "_view_count": null,
      "_view_module": "@jupyter-widgets/base",
      "_view_module_version": "1.2.0",
      "_view_name": "LayoutView",
      "align_content": null,
      "align_items": null,
      "align_self": null,
      "border": null,
      "bottom": null,
      "display": null,
      "flex": null,
      "flex_flow": null,
      "grid_area": null,
      "grid_auto_columns": null,
      "grid_auto_flow": null,
      "grid_auto_rows": null,
      "grid_column": null,
      "grid_gap": null,
      "grid_row": null,
      "grid_template_areas": null,
      "grid_template_columns": null,
      "grid_template_rows": null,
      "height": null,
      "justify_content": null,
      "justify_items": null,
      "left": null,
      "margin": null,
      "max_height": null,
      "max_width": null,
      "min_height": null,
      "min_width": null,
      "object_fit": null,
      "object_position": null,
      "order": null,
      "overflow": null,
      "overflow_x": null,
      "overflow_y": null,
      "padding": null,
      "right": null,
      "top": null,
      "visibility": null,
      "width": null
     }
    },
    "c52debdf2e2a4972b7565db3109a6c1f": {
     "model_module": "@jupyter-widgets/base",
     "model_module_version": "1.2.0",
     "model_name": "LayoutModel",
     "state": {
      "_model_module": "@jupyter-widgets/base",
      "_model_module_version": "1.2.0",
      "_model_name": "LayoutModel",
      "_view_count": null,
      "_view_module": "@jupyter-widgets/base",
      "_view_module_version": "1.2.0",
      "_view_name": "LayoutView",
      "align_content": null,
      "align_items": null,
      "align_self": null,
      "border": null,
      "bottom": null,
      "display": null,
      "flex": null,
      "flex_flow": null,
      "grid_area": null,
      "grid_auto_columns": null,
      "grid_auto_flow": null,
      "grid_auto_rows": null,
      "grid_column": null,
      "grid_gap": null,
      "grid_row": null,
      "grid_template_areas": null,
      "grid_template_columns": null,
      "grid_template_rows": null,
      "height": null,
      "justify_content": null,
      "justify_items": null,
      "left": null,
      "margin": null,
      "max_height": null,
      "max_width": null,
      "min_height": null,
      "min_width": null,
      "object_fit": null,
      "object_position": null,
      "order": null,
      "overflow": null,
      "overflow_x": null,
      "overflow_y": null,
      "padding": null,
      "right": null,
      "top": null,
      "visibility": null,
      "width": null
     }
    },
    "c89e12fdd24444ebb2349f96b8f64ef4": {
     "model_module": "@jupyter-widgets/base",
     "model_module_version": "1.2.0",
     "model_name": "LayoutModel",
     "state": {
      "_model_module": "@jupyter-widgets/base",
      "_model_module_version": "1.2.0",
      "_model_name": "LayoutModel",
      "_view_count": null,
      "_view_module": "@jupyter-widgets/base",
      "_view_module_version": "1.2.0",
      "_view_name": "LayoutView",
      "align_content": null,
      "align_items": null,
      "align_self": null,
      "border": null,
      "bottom": null,
      "display": null,
      "flex": null,
      "flex_flow": null,
      "grid_area": null,
      "grid_auto_columns": null,
      "grid_auto_flow": null,
      "grid_auto_rows": null,
      "grid_column": null,
      "grid_gap": null,
      "grid_row": null,
      "grid_template_areas": null,
      "grid_template_columns": null,
      "grid_template_rows": null,
      "height": null,
      "justify_content": null,
      "justify_items": null,
      "left": null,
      "margin": null,
      "max_height": null,
      "max_width": null,
      "min_height": null,
      "min_width": null,
      "object_fit": null,
      "object_position": null,
      "order": null,
      "overflow": null,
      "overflow_x": null,
      "overflow_y": null,
      "padding": null,
      "right": null,
      "top": null,
      "visibility": null,
      "width": null
     }
    },
    "c8fe0c36381b428a8b0ecd6ea2fb5b96": {
     "model_module": "@jupyter-widgets/controls",
     "model_module_version": "1.5.0",
     "model_name": "HBoxModel",
     "state": {
      "_dom_classes": [],
      "_model_module": "@jupyter-widgets/controls",
      "_model_module_version": "1.5.0",
      "_model_name": "HBoxModel",
      "_view_count": null,
      "_view_module": "@jupyter-widgets/controls",
      "_view_module_version": "1.5.0",
      "_view_name": "HBoxView",
      "box_style": "",
      "children": [
       "IPY_MODEL_0fb4316834794b5ea567ceb02bff20d9",
       "IPY_MODEL_f495ae7ed74b40e6968faade424a1a3f",
       "IPY_MODEL_268628c5f1864d9e8dd70e08c0bbf334"
      ],
      "layout": "IPY_MODEL_c94b4995954748f19a13b39684762256"
     }
    },
    "c94b4995954748f19a13b39684762256": {
     "model_module": "@jupyter-widgets/base",
     "model_module_version": "1.2.0",
     "model_name": "LayoutModel",
     "state": {
      "_model_module": "@jupyter-widgets/base",
      "_model_module_version": "1.2.0",
      "_model_name": "LayoutModel",
      "_view_count": null,
      "_view_module": "@jupyter-widgets/base",
      "_view_module_version": "1.2.0",
      "_view_name": "LayoutView",
      "align_content": null,
      "align_items": null,
      "align_self": null,
      "border": null,
      "bottom": null,
      "display": null,
      "flex": null,
      "flex_flow": null,
      "grid_area": null,
      "grid_auto_columns": null,
      "grid_auto_flow": null,
      "grid_auto_rows": null,
      "grid_column": null,
      "grid_gap": null,
      "grid_row": null,
      "grid_template_areas": null,
      "grid_template_columns": null,
      "grid_template_rows": null,
      "height": null,
      "justify_content": null,
      "justify_items": null,
      "left": null,
      "margin": null,
      "max_height": null,
      "max_width": null,
      "min_height": null,
      "min_width": null,
      "object_fit": null,
      "object_position": null,
      "order": null,
      "overflow": null,
      "overflow_x": null,
      "overflow_y": null,
      "padding": null,
      "right": null,
      "top": null,
      "visibility": null,
      "width": null
     }
    },
    "e19445f071d54749a4b1688672ff3b69": {
     "model_module": "@jupyter-widgets/controls",
     "model_module_version": "1.5.0",
     "model_name": "HTMLModel",
     "state": {
      "_dom_classes": [],
      "_model_module": "@jupyter-widgets/controls",
      "_model_module_version": "1.5.0",
      "_model_name": "HTMLModel",
      "_view_count": null,
      "_view_module": "@jupyter-widgets/controls",
      "_view_module_version": "1.5.0",
      "_view_name": "HTMLView",
      "description": "",
      "description_tooltip": null,
      "layout": "IPY_MODEL_0d19268784c64742a54f12922f8a39fb",
      "placeholder": "​",
      "style": "IPY_MODEL_fdc507cf16a7412493a15b3033eeafc7",
      "value": "Map: 100%"
     }
    },
    "e41a3696101d4fd2beb5db1603908e58": {
     "model_module": "@jupyter-widgets/base",
     "model_module_version": "1.2.0",
     "model_name": "LayoutModel",
     "state": {
      "_model_module": "@jupyter-widgets/base",
      "_model_module_version": "1.2.0",
      "_model_name": "LayoutModel",
      "_view_count": null,
      "_view_module": "@jupyter-widgets/base",
      "_view_module_version": "1.2.0",
      "_view_name": "LayoutView",
      "align_content": null,
      "align_items": null,
      "align_self": null,
      "border": null,
      "bottom": null,
      "display": null,
      "flex": null,
      "flex_flow": null,
      "grid_area": null,
      "grid_auto_columns": null,
      "grid_auto_flow": null,
      "grid_auto_rows": null,
      "grid_column": null,
      "grid_gap": null,
      "grid_row": null,
      "grid_template_areas": null,
      "grid_template_columns": null,
      "grid_template_rows": null,
      "height": null,
      "justify_content": null,
      "justify_items": null,
      "left": null,
      "margin": null,
      "max_height": null,
      "max_width": null,
      "min_height": null,
      "min_width": null,
      "object_fit": null,
      "object_position": null,
      "order": null,
      "overflow": null,
      "overflow_x": null,
      "overflow_y": null,
      "padding": null,
      "right": null,
      "top": null,
      "visibility": null,
      "width": null
     }
    },
    "f495ae7ed74b40e6968faade424a1a3f": {
     "model_module": "@jupyter-widgets/controls",
     "model_module_version": "1.5.0",
     "model_name": "FloatProgressModel",
     "state": {
      "_dom_classes": [],
      "_model_module": "@jupyter-widgets/controls",
      "_model_module_version": "1.5.0",
      "_model_name": "FloatProgressModel",
      "_view_count": null,
      "_view_module": "@jupyter-widgets/controls",
      "_view_module_version": "1.5.0",
      "_view_name": "ProgressView",
      "bar_style": "success",
      "description": "",
      "description_tooltip": null,
      "layout": "IPY_MODEL_bfe9f92559574e0baf50d71c1f785ddb",
      "max": 40482,
      "min": 0,
      "orientation": "horizontal",
      "style": "IPY_MODEL_23287704c5d445d5ab5f6c7257f4d7ba",
      "value": 40482
     }
    },
    "fdc507cf16a7412493a15b3033eeafc7": {
     "model_module": "@jupyter-widgets/controls",
     "model_module_version": "1.5.0",
     "model_name": "DescriptionStyleModel",
     "state": {
      "_model_module": "@jupyter-widgets/controls",
      "_model_module_version": "1.5.0",
      "_model_name": "DescriptionStyleModel",
      "_view_count": null,
      "_view_module": "@jupyter-widgets/base",
      "_view_module_version": "1.2.0",
      "_view_name": "StyleView",
      "description_width": ""
     }
    },
    "fdfeba469484433f88bab9efa2e34a52": {
     "model_module": "@jupyter-widgets/controls",
     "model_module_version": "1.5.0",
     "model_name": "ProgressStyleModel",
     "state": {
      "_model_module": "@jupyter-widgets/controls",
      "_model_module_version": "1.5.0",
      "_model_name": "ProgressStyleModel",
      "_view_count": null,
      "_view_module": "@jupyter-widgets/base",
      "_view_module_version": "1.2.0",
      "_view_name": "StyleView",
      "bar_color": null,
      "description_width": ""
     }
    }
   }
  }
 },
 "nbformat": 4,
 "nbformat_minor": 4
}
